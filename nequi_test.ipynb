{
 "cells": [
  {
   "attachments": {},
   "cell_type": "markdown",
   "metadata": {},
   "source": [
    "# Prueba Técnica - Ingeniero de datos en NEQUI"
   ]
  },
  {
   "attachments": {},
   "cell_type": "markdown",
   "metadata": {},
   "source": [
    "**Aspirante:** Edwar Mauricio Mayorga Llanos  \n",
    "**Ciudad Origen:** Neiva - Huila  \n",
    "**Lenguaje utilizado:** Python"
   ]
  },
  {
   "attachments": {},
   "cell_type": "markdown",
   "metadata": {},
   "source": [
    "## **Dataset:** [Trip History Data](https://s3.amazonaws.com/capitalbikeshare-data/index.html) \n",
    "\n",
    "[Capital Bikeshare](https://capitalbikeshare.com/) es una empresa que su principal fuente de ingresos es el alquiler de bicicletas electricas en la ciudad de Wachinton DC.\n",
    "\n",
    "Se trata de un dataset que contiene la informacion acerca de los viajes recopilados de periodos anteriores.\n",
    "\n",
    "Los datos incluyen:\n",
    "\n",
    "- **Duración:** Duración del viaje  \n",
    "- **Fecha de inicio:** Incluye la fecha y hora de inicio  \n",
    "- **Fecha de finalización:** Incluye la fecha y hora de finalización  \n",
    "- **Estación de inicio:** Incluye el nombre y número de la estación de inicio  \n",
    "- **Estación de finalización:** Incluye el nombre y número de la estación de finalización  \n",
    "- **Número de bicicleta:** Incluye el número de identificación de la bicicleta utilizada para el viaje  \n",
    "- **Tipo de miembro:** Indica si el usuario era:\n",
    "  - Un miembro \"registrado\" (Miembro anual, Miembro de 30 días o Miembro de llave diaria)\n",
    "  - Un ciclista \"casual\" (Viaje único, Pase de 24 horas, Pase de 3 días o Pase de 5 días)"
   ]
  },
  {
   "attachments": {},
   "cell_type": "markdown",
   "metadata": {},
   "source": [
    "## Paso 1: Alcance del proyecto y captura de datos\n",
    "### Captura y unificacion de datasets"
   ]
  },
  {
   "attachments": {},
   "cell_type": "markdown",
   "metadata": {},
   "source": [
    "## Casos de uso\n",
    "\n",
    "1. Análisis exploratorio: Quiero investigar patrones de uso de las bicicletas en la ciudad. Ejemplo:\n",
    "   - ¿Qué estación de origen y destino se utiliza más?\n",
    "   - ¿Qué días son de mayor demanda?\n",
    "   - ¿En qué rango de horas se utiliza más el servicio?\n",
    "   - ¿Quién usa más el servicio (miembros o ciclistas casuales)?</br></br>\n",
    "2. Base de datos de fuente de verdad sobre:\n",
    "   - Almacenar datos sobre los viajes de Capital Bikeshare"
   ]
  },
  {
   "attachments": {},
   "cell_type": "markdown",
   "metadata": {},
   "source": [
    "## Paso 2: Explorar y evaluar los datos, el EDA\n",
    "### Captura y unificacion de datasets"
   ]
  },
  {
   "cell_type": "code",
   "execution_count": 1,
   "metadata": {},
   "outputs": [],
   "source": [
    "import os\n",
    "import pandas as pd\n",
    "\n",
    "carpeta = 'data'\n",
    "archivos = os.listdir(carpeta)\n",
    "\n",
    "dfs = []\n",
    "\n",
    "for archivo in archivos:\n",
    "    ruta_archivo = os.path.join(carpeta, archivo)\n",
    "    if os.path.isfile(ruta_archivo):\n",
    "        df_temp = pd.read_csv(ruta_archivo)\n",
    "        dfs.append(df_temp)\n",
    "\n",
    "df = pd.concat(dfs, ignore_index=True)"
   ]
  },
  {
   "cell_type": "code",
   "execution_count": 2,
   "metadata": {},
   "outputs": [
    {
     "name": "stdout",
     "output_type": "stream",
     "text": [
      "Número total de registros:  1091341\n"
     ]
    }
   ],
   "source": [
    "print(\"Número total de registros: \", df.shape[0])"
   ]
  },
  {
   "attachments": {},
   "cell_type": "markdown",
   "metadata": {},
   "source": [
    "## Exploracion inicial\n",
    "\n",
    "### Vemos algunos datos de muestra y los nombres de las columnas."
   ]
  },
  {
   "cell_type": "code",
   "execution_count": 3,
   "metadata": {},
   "outputs": [
    {
     "data": {
      "text/html": [
       "<div>\n",
       "<style scoped>\n",
       "    .dataframe tbody tr th:only-of-type {\n",
       "        vertical-align: middle;\n",
       "    }\n",
       "\n",
       "    .dataframe tbody tr th {\n",
       "        vertical-align: top;\n",
       "    }\n",
       "\n",
       "    .dataframe thead th {\n",
       "        text-align: right;\n",
       "    }\n",
       "</style>\n",
       "<table border=\"1\" class=\"dataframe\">\n",
       "  <thead>\n",
       "    <tr style=\"text-align: right;\">\n",
       "      <th></th>\n",
       "      <th>ride_id</th>\n",
       "      <th>rideable_type</th>\n",
       "      <th>started_at</th>\n",
       "      <th>ended_at</th>\n",
       "      <th>start_station_name</th>\n",
       "      <th>start_station_id</th>\n",
       "      <th>end_station_name</th>\n",
       "      <th>end_station_id</th>\n",
       "      <th>start_lat</th>\n",
       "      <th>start_lng</th>\n",
       "      <th>end_lat</th>\n",
       "      <th>end_lng</th>\n",
       "      <th>member_casual</th>\n",
       "    </tr>\n",
       "  </thead>\n",
       "  <tbody>\n",
       "    <tr>\n",
       "      <th>0</th>\n",
       "      <td>65F0ACD101BF0D49</td>\n",
       "      <td>classic_bike</td>\n",
       "      <td>2023-01-04 19:34:07</td>\n",
       "      <td>2023-01-04 19:39:29</td>\n",
       "      <td>East Falls Church Metro / Sycamore St &amp; 19th St N</td>\n",
       "      <td>31904.0</td>\n",
       "      <td>W Columbia St &amp; N Washington St</td>\n",
       "      <td>32609.0</td>\n",
       "      <td>38.885321</td>\n",
       "      <td>-77.156427</td>\n",
       "      <td>38.885621</td>\n",
       "      <td>-77.166917</td>\n",
       "      <td>member</td>\n",
       "    </tr>\n",
       "    <tr>\n",
       "      <th>1</th>\n",
       "      <td>D75158CE73DC43F0</td>\n",
       "      <td>classic_bike</td>\n",
       "      <td>2023-01-27 15:26:38</td>\n",
       "      <td>2023-01-27 19:21:36</td>\n",
       "      <td>Carroll &amp; Westmoreland Ave</td>\n",
       "      <td>32025.0</td>\n",
       "      <td>Fenton St &amp; Ellsworth Dr</td>\n",
       "      <td>32036.0</td>\n",
       "      <td>38.975000</td>\n",
       "      <td>-77.011210</td>\n",
       "      <td>38.997033</td>\n",
       "      <td>-77.025608</td>\n",
       "      <td>member</td>\n",
       "    </tr>\n",
       "    <tr>\n",
       "      <th>2</th>\n",
       "      <td>33E85889625FF7CA</td>\n",
       "      <td>classic_bike</td>\n",
       "      <td>2023-01-05 20:44:38</td>\n",
       "      <td>2023-01-05 20:51:18</td>\n",
       "      <td>15th &amp; L St NW</td>\n",
       "      <td>31276.0</td>\n",
       "      <td>Thomas Circle</td>\n",
       "      <td>31241.0</td>\n",
       "      <td>38.903649</td>\n",
       "      <td>-77.034918</td>\n",
       "      <td>38.905900</td>\n",
       "      <td>-77.032500</td>\n",
       "      <td>member</td>\n",
       "    </tr>\n",
       "    <tr>\n",
       "      <th>3</th>\n",
       "      <td>E1F055A1651F47A1</td>\n",
       "      <td>classic_bike</td>\n",
       "      <td>2023-01-03 17:45:14</td>\n",
       "      <td>2023-01-03 17:57:23</td>\n",
       "      <td>Hartland Rd &amp; Harte Pl</td>\n",
       "      <td>32255.0</td>\n",
       "      <td>Merrifield Cinema &amp; Merrifield Town Center</td>\n",
       "      <td>32235.0</td>\n",
       "      <td>38.878601</td>\n",
       "      <td>-77.222808</td>\n",
       "      <td>38.870093</td>\n",
       "      <td>-77.229970</td>\n",
       "      <td>member</td>\n",
       "    </tr>\n",
       "    <tr>\n",
       "      <th>4</th>\n",
       "      <td>88CC90CEEC298BAF</td>\n",
       "      <td>classic_bike</td>\n",
       "      <td>2023-01-03 05:18:46</td>\n",
       "      <td>2023-01-03 05:25:50</td>\n",
       "      <td>Merrifield Cinema &amp; Merrifield Town Center</td>\n",
       "      <td>32235.0</td>\n",
       "      <td>Hartland Rd &amp; Harte Pl</td>\n",
       "      <td>32255.0</td>\n",
       "      <td>38.870093</td>\n",
       "      <td>-77.229970</td>\n",
       "      <td>38.878601</td>\n",
       "      <td>-77.222808</td>\n",
       "      <td>member</td>\n",
       "    </tr>\n",
       "  </tbody>\n",
       "</table>\n",
       "</div>"
      ],
      "text/plain": [
       "            ride_id rideable_type           started_at             ended_at   \n",
       "0  65F0ACD101BF0D49  classic_bike  2023-01-04 19:34:07  2023-01-04 19:39:29  \\\n",
       "1  D75158CE73DC43F0  classic_bike  2023-01-27 15:26:38  2023-01-27 19:21:36   \n",
       "2  33E85889625FF7CA  classic_bike  2023-01-05 20:44:38  2023-01-05 20:51:18   \n",
       "3  E1F055A1651F47A1  classic_bike  2023-01-03 17:45:14  2023-01-03 17:57:23   \n",
       "4  88CC90CEEC298BAF  classic_bike  2023-01-03 05:18:46  2023-01-03 05:25:50   \n",
       "\n",
       "                                  start_station_name  start_station_id   \n",
       "0  East Falls Church Metro / Sycamore St & 19th St N           31904.0  \\\n",
       "1                         Carroll & Westmoreland Ave           32025.0   \n",
       "2                                     15th & L St NW           31276.0   \n",
       "3                             Hartland Rd & Harte Pl           32255.0   \n",
       "4         Merrifield Cinema & Merrifield Town Center           32235.0   \n",
       "\n",
       "                             end_station_name  end_station_id  start_lat   \n",
       "0             W Columbia St & N Washington St         32609.0  38.885321  \\\n",
       "1                   Fenton St & Ellsworth Dr          32036.0  38.975000   \n",
       "2                               Thomas Circle         31241.0  38.903649   \n",
       "3  Merrifield Cinema & Merrifield Town Center         32235.0  38.878601   \n",
       "4                      Hartland Rd & Harte Pl         32255.0  38.870093   \n",
       "\n",
       "   start_lng    end_lat    end_lng member_casual  \n",
       "0 -77.156427  38.885621 -77.166917        member  \n",
       "1 -77.011210  38.997033 -77.025608        member  \n",
       "2 -77.034918  38.905900 -77.032500        member  \n",
       "3 -77.222808  38.870093 -77.229970        member  \n",
       "4 -77.229970  38.878601 -77.222808        member  "
      ]
     },
     "execution_count": 3,
     "metadata": {},
     "output_type": "execute_result"
    }
   ],
   "source": [
    "df.head()"
   ]
  },
  {
   "attachments": {},
   "cell_type": "markdown",
   "metadata": {},
   "source": [
    "### Con el info observamos el tipo de dato de la columna, el total de filas del df, si contiene alguna fila nula en su totalidad, **aunque** puede tener datos nulos internos cada columna."
   ]
  },
  {
   "cell_type": "code",
   "execution_count": 4,
   "metadata": {},
   "outputs": [
    {
     "name": "stdout",
     "output_type": "stream",
     "text": [
      "<class 'pandas.core.frame.DataFrame'>\n",
      "RangeIndex: 1091341 entries, 0 to 1091340\n",
      "Data columns (total 13 columns):\n",
      " #   Column              Non-Null Count    Dtype  \n",
      "---  ------              --------------    -----  \n",
      " 0   ride_id             1091341 non-null  object \n",
      " 1   rideable_type       1091341 non-null  object \n",
      " 2   started_at          1091341 non-null  object \n",
      " 3   ended_at            1091341 non-null  object \n",
      " 4   start_station_name  1028917 non-null  object \n",
      " 5   start_station_id    1028917 non-null  float64\n",
      " 6   end_station_name    1023719 non-null  object \n",
      " 7   end_station_id      1023719 non-null  float64\n",
      " 8   start_lat           1091341 non-null  float64\n",
      " 9   start_lng           1091341 non-null  float64\n",
      " 10  end_lat             1089686 non-null  float64\n",
      " 11  end_lng             1089686 non-null  float64\n",
      " 12  member_casual       1091341 non-null  object \n",
      "dtypes: float64(6), object(7)\n",
      "memory usage: 108.2+ MB\n"
     ]
    }
   ],
   "source": [
    "df.info()"
   ]
  },
  {
   "attachments": {},
   "cell_type": "markdown",
   "metadata": {},
   "source": [
    "### Mostrare como estadisticas descriptivas de la columanas numericas"
   ]
  },
  {
   "cell_type": "code",
   "execution_count": 5,
   "metadata": {},
   "outputs": [
    {
     "data": {
      "text/html": [
       "<div>\n",
       "<style scoped>\n",
       "    .dataframe tbody tr th:only-of-type {\n",
       "        vertical-align: middle;\n",
       "    }\n",
       "\n",
       "    .dataframe tbody tr th {\n",
       "        vertical-align: top;\n",
       "    }\n",
       "\n",
       "    .dataframe thead th {\n",
       "        text-align: right;\n",
       "    }\n",
       "</style>\n",
       "<table border=\"1\" class=\"dataframe\">\n",
       "  <thead>\n",
       "    <tr style=\"text-align: right;\">\n",
       "      <th></th>\n",
       "      <th>start_station_id</th>\n",
       "      <th>end_station_id</th>\n",
       "      <th>start_lat</th>\n",
       "      <th>start_lng</th>\n",
       "      <th>end_lat</th>\n",
       "      <th>end_lng</th>\n",
       "    </tr>\n",
       "  </thead>\n",
       "  <tbody>\n",
       "    <tr>\n",
       "      <th>count</th>\n",
       "      <td>1.028917e+06</td>\n",
       "      <td>1.023719e+06</td>\n",
       "      <td>1.091341e+06</td>\n",
       "      <td>1.091341e+06</td>\n",
       "      <td>1.089686e+06</td>\n",
       "      <td>1.089686e+06</td>\n",
       "    </tr>\n",
       "    <tr>\n",
       "      <th>mean</th>\n",
       "      <td>3.136837e+04</td>\n",
       "      <td>3.136905e+04</td>\n",
       "      <td>3.890287e+01</td>\n",
       "      <td>-7.703129e+01</td>\n",
       "      <td>3.890188e+01</td>\n",
       "      <td>-7.703098e+01</td>\n",
       "    </tr>\n",
       "    <tr>\n",
       "      <th>std</th>\n",
       "      <td>2.690992e+02</td>\n",
       "      <td>2.707434e+02</td>\n",
       "      <td>2.539424e-02</td>\n",
       "      <td>3.235538e-02</td>\n",
       "      <td>2.512133e-02</td>\n",
       "      <td>3.213795e-02</td>\n",
       "    </tr>\n",
       "    <tr>\n",
       "      <th>min</th>\n",
       "      <td>3.020000e+04</td>\n",
       "      <td>3.020000e+04</td>\n",
       "      <td>3.877000e+01</td>\n",
       "      <td>-7.739000e+01</td>\n",
       "      <td>3.871000e+01</td>\n",
       "      <td>-7.747000e+01</td>\n",
       "    </tr>\n",
       "    <tr>\n",
       "      <th>25%</th>\n",
       "      <td>3.121200e+04</td>\n",
       "      <td>3.121400e+04</td>\n",
       "      <td>3.889086e+01</td>\n",
       "      <td>-7.704368e+01</td>\n",
       "      <td>3.889054e+01</td>\n",
       "      <td>-7.704368e+01</td>\n",
       "    </tr>\n",
       "    <tr>\n",
       "      <th>50%</th>\n",
       "      <td>3.127700e+04</td>\n",
       "      <td>3.127600e+04</td>\n",
       "      <td>3.890267e+01</td>\n",
       "      <td>-7.703150e+01</td>\n",
       "      <td>3.890206e+01</td>\n",
       "      <td>-7.703000e+01</td>\n",
       "    </tr>\n",
       "    <tr>\n",
       "      <th>75%</th>\n",
       "      <td>3.160600e+04</td>\n",
       "      <td>3.160900e+04</td>\n",
       "      <td>3.891305e+01</td>\n",
       "      <td>-7.701347e+01</td>\n",
       "      <td>3.891260e+01</td>\n",
       "      <td>-7.701237e+01</td>\n",
       "    </tr>\n",
       "    <tr>\n",
       "      <th>max</th>\n",
       "      <td>3.320000e+04</td>\n",
       "      <td>3.320000e+04</td>\n",
       "      <td>3.913000e+01</td>\n",
       "      <td>-7.682000e+01</td>\n",
       "      <td>3.913000e+01</td>\n",
       "      <td>-7.682000e+01</td>\n",
       "    </tr>\n",
       "  </tbody>\n",
       "</table>\n",
       "</div>"
      ],
      "text/plain": [
       "       start_station_id  end_station_id     start_lat     start_lng   \n",
       "count      1.028917e+06    1.023719e+06  1.091341e+06  1.091341e+06  \\\n",
       "mean       3.136837e+04    3.136905e+04  3.890287e+01 -7.703129e+01   \n",
       "std        2.690992e+02    2.707434e+02  2.539424e-02  3.235538e-02   \n",
       "min        3.020000e+04    3.020000e+04  3.877000e+01 -7.739000e+01   \n",
       "25%        3.121200e+04    3.121400e+04  3.889086e+01 -7.704368e+01   \n",
       "50%        3.127700e+04    3.127600e+04  3.890267e+01 -7.703150e+01   \n",
       "75%        3.160600e+04    3.160900e+04  3.891305e+01 -7.701347e+01   \n",
       "max        3.320000e+04    3.320000e+04  3.913000e+01 -7.682000e+01   \n",
       "\n",
       "            end_lat       end_lng  \n",
       "count  1.089686e+06  1.089686e+06  \n",
       "mean   3.890188e+01 -7.703098e+01  \n",
       "std    2.512133e-02  3.213795e-02  \n",
       "min    3.871000e+01 -7.747000e+01  \n",
       "25%    3.889054e+01 -7.704368e+01  \n",
       "50%    3.890206e+01 -7.703000e+01  \n",
       "75%    3.891260e+01 -7.701237e+01  \n",
       "max    3.913000e+01 -7.682000e+01  "
      ]
     },
     "execution_count": 5,
     "metadata": {},
     "output_type": "execute_result"
    }
   ],
   "source": [
    "df.describe()"
   ]
  },
  {
   "attachments": {},
   "cell_type": "markdown",
   "metadata": {},
   "source": [
    "### Veremos cuantas datos nulos tienen las columnas internamente"
   ]
  },
  {
   "cell_type": "code",
   "execution_count": 6,
   "metadata": {},
   "outputs": [
    {
     "data": {
      "text/plain": [
       "ride_id                   0\n",
       "rideable_type             0\n",
       "started_at                0\n",
       "ended_at                  0\n",
       "start_station_name    62424\n",
       "start_station_id      62424\n",
       "end_station_name      67622\n",
       "end_station_id        67622\n",
       "start_lat                 0\n",
       "start_lng                 0\n",
       "end_lat                1655\n",
       "end_lng                1655\n",
       "member_casual             0\n",
       "dtype: int64"
      ]
     },
     "execution_count": 6,
     "metadata": {},
     "output_type": "execute_result"
    }
   ],
   "source": [
    "df.isnull().sum()"
   ]
  },
  {
   "attachments": {},
   "cell_type": "markdown",
   "metadata": {},
   "source": [
    "### y si tienen datos duplicados"
   ]
  },
  {
   "cell_type": "code",
   "execution_count": 7,
   "metadata": {},
   "outputs": [
    {
     "data": {
      "text/plain": [
       "0"
      ]
     },
     "execution_count": 7,
     "metadata": {},
     "output_type": "execute_result"
    }
   ],
   "source": [
    "df.duplicated().sum()"
   ]
  },
  {
   "attachments": {},
   "cell_type": "markdown",
   "metadata": {},
   "source": [
    "## Limpieza de datos  \n",
    "Identificamos que los registros tienen problema con el formato de fecha y bastantes registros con valores nulos, como queremos trabajar con datos completos, **borraré** los datos que contengan algun datos vacio y se **regulara** el formato de fecha."
   ]
  },
  {
   "attachments": {},
   "cell_type": "markdown",
   "metadata": {},
   "source": [
    "> Creamos una copia del df original para no afectarlo."
   ]
  },
  {
   "cell_type": "code",
   "execution_count": 8,
   "metadata": {},
   "outputs": [],
   "source": [
    "import logging\n",
    "\n",
    "logging.basicConfig(filename='app.log', level=logging.INFO)\n",
    "\n",
    "try:\n",
    "    df_clean = df.copy()\n",
    "    \n",
    "    df_clean.dropna(inplace=True)\n",
    "    \n",
    "    df_clean['started_at'] = pd.to_datetime(df_clean['started_at'])\n",
    "    df_clean['ended_at'] = pd.to_datetime(df_clean['ended_at'])\n",
    "    \n",
    "except Exception as e:\n",
    "    logging.error(e)\n",
    "    print(\"Ha ocurrido un error, por favor revisa el log para más detalles.\")"
   ]
  },
  {
   "attachments": {},
   "cell_type": "markdown",
   "metadata": {},
   "source": [
    "### Verificamos la limpieza"
   ]
  },
  {
   "cell_type": "code",
   "execution_count": 9,
   "metadata": {},
   "outputs": [
    {
     "data": {
      "text/html": [
       "<div>\n",
       "<style scoped>\n",
       "    .dataframe tbody tr th:only-of-type {\n",
       "        vertical-align: middle;\n",
       "    }\n",
       "\n",
       "    .dataframe tbody tr th {\n",
       "        vertical-align: top;\n",
       "    }\n",
       "\n",
       "    .dataframe thead th {\n",
       "        text-align: right;\n",
       "    }\n",
       "</style>\n",
       "<table border=\"1\" class=\"dataframe\">\n",
       "  <thead>\n",
       "    <tr style=\"text-align: right;\">\n",
       "      <th></th>\n",
       "      <th>ride_id</th>\n",
       "      <th>rideable_type</th>\n",
       "      <th>started_at</th>\n",
       "      <th>ended_at</th>\n",
       "      <th>start_station_name</th>\n",
       "      <th>start_station_id</th>\n",
       "      <th>end_station_name</th>\n",
       "      <th>end_station_id</th>\n",
       "      <th>start_lat</th>\n",
       "      <th>start_lng</th>\n",
       "      <th>end_lat</th>\n",
       "      <th>end_lng</th>\n",
       "      <th>member_casual</th>\n",
       "    </tr>\n",
       "  </thead>\n",
       "  <tbody>\n",
       "    <tr>\n",
       "      <th>0</th>\n",
       "      <td>65F0ACD101BF0D49</td>\n",
       "      <td>classic_bike</td>\n",
       "      <td>2023-01-04 19:34:07</td>\n",
       "      <td>2023-01-04 19:39:29</td>\n",
       "      <td>East Falls Church Metro / Sycamore St &amp; 19th St N</td>\n",
       "      <td>31904.0</td>\n",
       "      <td>W Columbia St &amp; N Washington St</td>\n",
       "      <td>32609.0</td>\n",
       "      <td>38.885321</td>\n",
       "      <td>-77.156427</td>\n",
       "      <td>38.885621</td>\n",
       "      <td>-77.166917</td>\n",
       "      <td>member</td>\n",
       "    </tr>\n",
       "    <tr>\n",
       "      <th>1</th>\n",
       "      <td>D75158CE73DC43F0</td>\n",
       "      <td>classic_bike</td>\n",
       "      <td>2023-01-27 15:26:38</td>\n",
       "      <td>2023-01-27 19:21:36</td>\n",
       "      <td>Carroll &amp; Westmoreland Ave</td>\n",
       "      <td>32025.0</td>\n",
       "      <td>Fenton St &amp; Ellsworth Dr</td>\n",
       "      <td>32036.0</td>\n",
       "      <td>38.975000</td>\n",
       "      <td>-77.011210</td>\n",
       "      <td>38.997033</td>\n",
       "      <td>-77.025608</td>\n",
       "      <td>member</td>\n",
       "    </tr>\n",
       "    <tr>\n",
       "      <th>2</th>\n",
       "      <td>33E85889625FF7CA</td>\n",
       "      <td>classic_bike</td>\n",
       "      <td>2023-01-05 20:44:38</td>\n",
       "      <td>2023-01-05 20:51:18</td>\n",
       "      <td>15th &amp; L St NW</td>\n",
       "      <td>31276.0</td>\n",
       "      <td>Thomas Circle</td>\n",
       "      <td>31241.0</td>\n",
       "      <td>38.903649</td>\n",
       "      <td>-77.034918</td>\n",
       "      <td>38.905900</td>\n",
       "      <td>-77.032500</td>\n",
       "      <td>member</td>\n",
       "    </tr>\n",
       "    <tr>\n",
       "      <th>3</th>\n",
       "      <td>E1F055A1651F47A1</td>\n",
       "      <td>classic_bike</td>\n",
       "      <td>2023-01-03 17:45:14</td>\n",
       "      <td>2023-01-03 17:57:23</td>\n",
       "      <td>Hartland Rd &amp; Harte Pl</td>\n",
       "      <td>32255.0</td>\n",
       "      <td>Merrifield Cinema &amp; Merrifield Town Center</td>\n",
       "      <td>32235.0</td>\n",
       "      <td>38.878601</td>\n",
       "      <td>-77.222808</td>\n",
       "      <td>38.870093</td>\n",
       "      <td>-77.229970</td>\n",
       "      <td>member</td>\n",
       "    </tr>\n",
       "    <tr>\n",
       "      <th>4</th>\n",
       "      <td>88CC90CEEC298BAF</td>\n",
       "      <td>classic_bike</td>\n",
       "      <td>2023-01-03 05:18:46</td>\n",
       "      <td>2023-01-03 05:25:50</td>\n",
       "      <td>Merrifield Cinema &amp; Merrifield Town Center</td>\n",
       "      <td>32235.0</td>\n",
       "      <td>Hartland Rd &amp; Harte Pl</td>\n",
       "      <td>32255.0</td>\n",
       "      <td>38.870093</td>\n",
       "      <td>-77.229970</td>\n",
       "      <td>38.878601</td>\n",
       "      <td>-77.222808</td>\n",
       "      <td>member</td>\n",
       "    </tr>\n",
       "  </tbody>\n",
       "</table>\n",
       "</div>"
      ],
      "text/plain": [
       "            ride_id rideable_type          started_at            ended_at   \n",
       "0  65F0ACD101BF0D49  classic_bike 2023-01-04 19:34:07 2023-01-04 19:39:29  \\\n",
       "1  D75158CE73DC43F0  classic_bike 2023-01-27 15:26:38 2023-01-27 19:21:36   \n",
       "2  33E85889625FF7CA  classic_bike 2023-01-05 20:44:38 2023-01-05 20:51:18   \n",
       "3  E1F055A1651F47A1  classic_bike 2023-01-03 17:45:14 2023-01-03 17:57:23   \n",
       "4  88CC90CEEC298BAF  classic_bike 2023-01-03 05:18:46 2023-01-03 05:25:50   \n",
       "\n",
       "                                  start_station_name  start_station_id   \n",
       "0  East Falls Church Metro / Sycamore St & 19th St N           31904.0  \\\n",
       "1                         Carroll & Westmoreland Ave           32025.0   \n",
       "2                                     15th & L St NW           31276.0   \n",
       "3                             Hartland Rd & Harte Pl           32255.0   \n",
       "4         Merrifield Cinema & Merrifield Town Center           32235.0   \n",
       "\n",
       "                             end_station_name  end_station_id  start_lat   \n",
       "0             W Columbia St & N Washington St         32609.0  38.885321  \\\n",
       "1                   Fenton St & Ellsworth Dr          32036.0  38.975000   \n",
       "2                               Thomas Circle         31241.0  38.903649   \n",
       "3  Merrifield Cinema & Merrifield Town Center         32235.0  38.878601   \n",
       "4                      Hartland Rd & Harte Pl         32255.0  38.870093   \n",
       "\n",
       "   start_lng    end_lat    end_lng member_casual  \n",
       "0 -77.156427  38.885621 -77.166917        member  \n",
       "1 -77.011210  38.997033 -77.025608        member  \n",
       "2 -77.034918  38.905900 -77.032500        member  \n",
       "3 -77.222808  38.870093 -77.229970        member  \n",
       "4 -77.229970  38.878601 -77.222808        member  "
      ]
     },
     "execution_count": 9,
     "metadata": {},
     "output_type": "execute_result"
    }
   ],
   "source": [
    "df_clean.head()"
   ]
  },
  {
   "cell_type": "code",
   "execution_count": 10,
   "metadata": {},
   "outputs": [
    {
     "data": {
      "text/plain": [
       "ride_id               0\n",
       "rideable_type         0\n",
       "started_at            0\n",
       "ended_at              0\n",
       "start_station_name    0\n",
       "start_station_id      0\n",
       "end_station_name      0\n",
       "end_station_id        0\n",
       "start_lat             0\n",
       "start_lng             0\n",
       "end_lat               0\n",
       "end_lng               0\n",
       "member_casual         0\n",
       "dtype: int64"
      ]
     },
     "execution_count": 10,
     "metadata": {},
     "output_type": "execute_result"
    }
   ],
   "source": [
    "df_clean.isnull().sum()"
   ]
  },
  {
   "cell_type": "code",
   "execution_count": 11,
   "metadata": {},
   "outputs": [
    {
     "name": "stdout",
     "output_type": "stream",
     "text": [
      "<class 'pandas.core.frame.DataFrame'>\n",
      "Index: 997572 entries, 0 to 1091340\n",
      "Data columns (total 13 columns):\n",
      " #   Column              Non-Null Count   Dtype         \n",
      "---  ------              --------------   -----         \n",
      " 0   ride_id             997572 non-null  object        \n",
      " 1   rideable_type       997572 non-null  object        \n",
      " 2   started_at          997572 non-null  datetime64[ns]\n",
      " 3   ended_at            997572 non-null  datetime64[ns]\n",
      " 4   start_station_name  997572 non-null  object        \n",
      " 5   start_station_id    997572 non-null  float64       \n",
      " 6   end_station_name    997572 non-null  object        \n",
      " 7   end_station_id      997572 non-null  float64       \n",
      " 8   start_lat           997572 non-null  float64       \n",
      " 9   start_lng           997572 non-null  float64       \n",
      " 10  end_lat             997572 non-null  float64       \n",
      " 11  end_lng             997572 non-null  float64       \n",
      " 12  member_casual       997572 non-null  object        \n",
      "dtypes: datetime64[ns](2), float64(6), object(5)\n",
      "memory usage: 106.6+ MB\n"
     ]
    }
   ],
   "source": [
    "df_clean.info()"
   ]
  },
  {
   "attachments": {},
   "cell_type": "markdown",
   "metadata": {},
   "source": [
    "## Paso 3: Definir el modelo de datos"
   ]
  },
  {
   "attachments": {},
   "cell_type": "markdown",
   "metadata": {},
   "source": [
    "El modelo de datos conceptuales manejaria el esquema estrella, es util para este ejemplo y se asemeja mucho a las bodegas de datos, en ese sentido, mentendria una tabla grande tipo Factless, donde tendria la informacion de los viajes. Dimensionaria a los clientes, estaciones, tipos de bicicletas y tipo de cliente.\n",
    "\n",
    "> Eleji el modelo por la simplicidad y comprension, escalabilidad y analisis multidimensional."
   ]
  },
  {
   "attachments": {},
   "cell_type": "markdown",
   "metadata": {},
   "source": [
    "### Tabla de hechos (trip_facts)\n",
    "| Columna           | Descripción                                                        |\n",
    "|-------------------|--------------------------------------------------------------------|\n",
    "| ride_id           | Clave principal del viaje                                          |\n",
    "| started_at        | Fecha y hora de inicio del viaje                                   |\n",
    "| ended_at          | Fecha y hora de finalización del viaje                             |\n",
    "| start_station_id  | Clave foránea a la dimensión stations para la estación de in icio  |\n",
    "| end_station_id    | Clave foránea a la dimensión stations para la estación de     fin  |\n",
    "| rideable_id       | Clave foránea a la dimensión bike_types para el tipo de bicicleta  |\n",
    "| member_id         | Clave foránea a la dimensión customer_types para el tipo deliente  |ypes  |"
   ]
  },
  {
   "attachments": {},
   "cell_type": "markdown",
   "metadata": {},
   "source": [
    "### Dimensión stations\n",
    "\n",
    "| Columna       | Descripción                            |\n",
    "|---------------|----------------------------------------|\n",
    "| station_id    | Clave principal de la estación         |\n",
    "| station_name  | Nombre de la estación                  |\n",
    "| station_lat   | Latitud de la ubicación de la estación |\n",
    "| station_lng   | Longitud de la ubicación de la estación|"
   ]
  },
  {
   "attachments": {},
   "cell_type": "markdown",
   "metadata": {},
   "source": [
    "### Dimensión bike_types\n",
    "\n",
    "| Columna       | Descripción                           |\n",
    "|---------------|---------------------------------------|\n",
    "| rideable_id   | Clave principal del tipo de bicicleta |\n",
    "| rideable_type | Nombre del tipo de bicicleta          |"
   ]
  },
  {
   "attachments": {},
   "cell_type": "markdown",
   "metadata": {},
   "source": [
    "### Dimensión member_type\n",
    "\n",
    "| Columna           | Descripción                                   |\n",
    "|-------------------|-----------------------------------------------|\n",
    "| member_id         | Clave principal del tipo de cliente           |\n",
    "| member_type       | Tipo de cliente (miembro o casual)            |"
   ]
  },
  {
   "attachments": {},
   "cell_type": "markdown",
   "metadata": {},
   "source": [
    "![DIAGRAMA UML](images/uml.png)"
   ]
  },
  {
   "cell_type": "code",
   "execution_count": 12,
   "metadata": {},
   "outputs": [
    {
     "data": {
      "image/png": "[encoded data removed]",
      "text/plain": [
       "<Figure size 800x600 with 1 Axes>"
      ]
     },
     "metadata": {},
     "output_type": "display_data"
    }
   ],
   "source": [
    "import matplotlib.pyplot as plt\n",
    "\n",
    "try:\n",
    "    df_clean['start_month'] = df_clean['started_at'].dt.month\n",
    "    \n",
    "    trips_per_month = df_clean['start_month'].value_counts().sort_index()\n",
    "    \n",
    "    plt.figure(figsize=(8, 6))\n",
    "    plt.bar(trips_per_month.index, trips_per_month.values)\n",
    "    plt.xlabel('Mes')\n",
    "    plt.ylabel('Número de viajes')\n",
    "    plt.title('Número de viajes por mes')\n",
    "    plt.xticks(range(1, 5))\n",
    "    \n",
    "    for i, value in enumerate(trips_per_month.values):\n",
    "        plt.text(trips_per_month.index[i], value, str(value), ha='center', va='bottom')\n",
    "    \n",
    "    plt.show()\n",
    "\n",
    "except Exception as e:\n",
    "    \n",
    "    logging.error(e)\n",
    "    print(\"Ha ocurrido un error, por favor revisa el log para más detalles.\")"
   ]
  },
  {
   "cell_type": "code",
   "execution_count": 13,
   "metadata": {},
   "outputs": [
    {
     "data": {
      "image/png": "[encoded data removed]",
      "text/plain": [
       "<Figure size 800x600 with 1 Axes>"
      ]
     },
     "metadata": {},
     "output_type": "display_data"
    }
   ],
   "source": [
    "try:\n",
    "    member_counts = df_clean['member_casual'].value_counts()\n",
    "    \n",
    "    plt.figure(figsize=(8, 6))\n",
    "    plt.pie(member_counts, labels=member_counts.index, autopct='%1.1f%%')\n",
    "    plt.title('Distribución de miembros vs. ciclistas casuales')\n",
    "    plt.axis('equal')    \n",
    "    plt.show()\n",
    "    \n",
    "except Exception as e:\n",
    "    \n",
    "    logging.error(e)\n",
    "    print(\"Ha ocurrido un error, por favor revisa el log para más detalles.\")"
   ]
  },
  {
   "cell_type": "code",
   "execution_count": 14,
   "metadata": {},
   "outputs": [
    {
     "data": {
      "image/png": "[encoded data removed]",
      "text/plain": [
       "<Figure size 1000x800 with 1 Axes>"
      ]
     },
     "metadata": {},
     "output_type": "display_data"
    }
   ],
   "source": [
    "try:\n",
    "    plt.figure(figsize=(10, 8))\n",
    "    plt.scatter(df_clean['start_lng'], df_clean['start_lat'], label='Estación de inicio', color='blue')\n",
    "    plt.scatter(df_clean['end_lng'], df_clean['end_lat'], label='Estación de finalización', color='green')\n",
    "    plt.xlabel('Longitud')\n",
    "    plt.ylabel('Latitud')\n",
    "    plt.title('Distribución de estaciones de inicio y finalización')\n",
    "    plt.legend()\n",
    "    plt.show()\n",
    "    \n",
    "except Exception as e:\n",
    "    \n",
    "    logging.error(e)\n",
    "    print(\"Ha ocurrido un error, por favor revisa el log para más detalles.\")"
   ]
  },
  {
   "cell_type": "markdown",
   "metadata": {},
   "source": [
    "## Mapa Washington D. C.\n",
    "![DIAGRAMA UML](images/mapa_wdc.png)"
   ]
  },
  {
   "cell_type": "markdown",
   "metadata": {},
   "source": [
    "- ### Sobre arquitectura no conozco mucho de esta, pero lo que investigue diria que una buena opcion seria utilizar arquitectuctura en la nube por escalabilidad.\n",
    "\n",
    "- ### Los recursos que use fueron Pandas para el procesamiento de datos y para las visualizaciones Matplotlib.\n",
    "\n",
    "- ### El motivo que utilice pandas es porque es una libreria poderosa para trabajar con el analisis y manipulacion de datos. Asi mimos Matplotlib es un gran generador de grafiscos para Data Visualization.\n",
    "\n",
    "### Tecnologias del proyecto:\n",
    "\n",
    "    - Python\n",
    "    - Jupyter Notebook\n",
    "    - Pandas\n",
    "    - Matplotlib\n",
    "\n",
    "- ### La frecuencia de actualizacion de los datos debe ser trimestral cuando se generen nuevos los nuevos archivos por parte de Capital Bikeshare."
   ]
  },
  {
   "cell_type": "code",
   "execution_count": null,
   "metadata": {},
   "outputs": [],
   "source": []
  }
 ],
 "metadata": {
  "kernelspec": {
   "display_name": "Python 3 (ipykernel)",
   "language": "python",
   "name": "python3"
  },
  "language_info": {
   "codemirror_mode": {
    "name": "ipython",
    "version": 3
   },
   "file_extension": ".py",
   "mimetype": "text/x-python",
   "name": "python",
   "nbconvert_exporter": "python",
   "pygments_lexer": "ipython3",
   "version": "3.11.3"
  }
 },
 "nbformat": 4,
 "nbformat_minor": 4
}
